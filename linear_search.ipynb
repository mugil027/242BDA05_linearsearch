{
 "cells": [
  {
   "cell_type": "code",
   "execution_count": 10,
   "metadata": {},
   "outputs": [],
   "source": [
    "def linearoperation(n, numbers):\n",
    "    for x in range(len(numbers)):\n",
    "        if(n==numbers[x]):\n",
    "            print(f\" the number {n} is found in index.\", x)\n",
    "    "
   ]
  },
  {
   "cell_type": "code",
   "execution_count": 11,
   "metadata": {},
   "outputs": [
    {
     "name": "stdin",
     "output_type": "stream",
     "text": [
      "Enter the number of elements you want to enter:  4\n",
      " 1\n",
      " 2\n",
      " 3\n",
      " 4\n",
      "Enter the element you want to search:  2\n"
     ]
    },
    {
     "name": "stdout",
     "output_type": "stream",
     "text": [
      " the number 2 is found in index. 1\n"
     ]
    }
   ],
   "source": [
    "numbers = []\n",
    "countofnum = int(input(\"Enter the number of elements you want to enter: \")) \n",
    "for i in range(1,countofnum+1):\n",
    "    y = input()\n",
    "    numbers.append(y)\n",
    "n = input(\"Enter the element you want to search: \")\n",
    "\n",
    "linearoperation(n, numbers)\n",
    "\n"
   ]
  },
  {
   "cell_type": "code",
   "execution_count": null,
   "metadata": {},
   "outputs": [],
   "source": []
  },
  {
   "cell_type": "code",
   "execution_count": null,
   "metadata": {},
   "outputs": [],
   "source": []
  },
  {
   "cell_type": "code",
   "execution_count": null,
   "metadata": {},
   "outputs": [],
   "source": []
  }
 ],
 "metadata": {
  "kernelspec": {
   "display_name": "Python 3 (ipykernel)",
   "language": "python",
   "name": "python3"
  },
  "language_info": {
   "codemirror_mode": {
    "name": "ipython",
    "version": 3
   },
   "file_extension": ".py",
   "mimetype": "text/x-python",
   "name": "python",
   "nbconvert_exporter": "python",
   "pygments_lexer": "ipython3",
   "version": "3.12.4"
  }
 },
 "nbformat": 4,
 "nbformat_minor": 4
}
